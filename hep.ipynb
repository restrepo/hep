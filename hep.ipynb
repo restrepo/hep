{
 "cells": [
  {
   "cell_type": "code",
   "execution_count": null,
   "metadata": {},
   "outputs": [],
   "source": [
    "#https://www.youtube.com/watch?v=vRVVyl9uaZc\n",
    "import numpy as np\n",
    "from dataclasses import dataclass, field\n",
    "import pdg as pdgtmp\n",
    "\n",
    "@dataclass\n",
    "class hep2:\n",
    "    G_F: float    #=1.166370E-05    # G_F,Fermi constant\n",
    "    α_s:float #=1.187000E-01    #(MZ) SM MSbar\n",
    "    M_Z:float    #=9.118870E+01    # Z-boson pole mass'\n",
    "    v:float=field(init=False)\n",
    "    pdg:dict\n",
    "    def __post_init__(self):\n",
    "        self.v=1/np.sqrt(np.sqrt(2)*self.G_F)\n",
    "    \n",
    "sm=hep2(G_F=1.166370E-05,α_s=1.187000E-01,M_Z=9.118870E+01,pdg=pdgtmp.pdgid_names)"
   ]
  },
  {
   "cell_type": "code",
   "execution_count": null,
   "metadata": {},
   "outputs": [
    {
     "data": {
      "text/plain": [
       "1.16637e-05"
      ]
     },
     "execution_count": 5,
     "metadata": {},
     "output_type": "execute_result"
    }
   ],
   "source": [
    "sm.G_F"
   ]
  },
  {
   "cell_type": "code",
   "execution_count": null,
   "metadata": {},
   "outputs": [
    {
     "data": {
      "text/plain": [
       "0.1187"
      ]
     },
     "execution_count": 6,
     "metadata": {},
     "output_type": "execute_result"
    }
   ],
   "source": [
    "sm.α_s"
   ]
  },
  {
   "cell_type": "code",
   "execution_count": null,
   "metadata": {},
   "outputs": [
    {
     "data": {
      "text/plain": [
       "246.22056907348588"
      ]
     },
     "execution_count": 7,
     "metadata": {},
     "output_type": "execute_result"
    }
   ],
   "source": [
    "sm.v"
   ]
  },
  {
   "cell_type": "code",
   "execution_count": null,
   "metadata": {},
   "outputs": [],
   "source": [
    "import numpy as np\n",
    "import pdg as pdgtmp\n",
    "def revert_dict(dictionary):\n",
    "        return dict((v,k) for k,v in dictionary.items())\n",
    "\n",
    "import pdg as pdgtmp\n",
    "class hep:\n",
    "    def __init__(self,G_F=(1.1663787E-05,0.0000006E-05),α_s=(0.1179,0.0010),M_Z=(9.11876E+01,0.00021E+01),\n",
    "                 αm1=(127.952,0.009),M_W=(80.379,0.012),sin2θW=(0.23122,0.00004),\n",
    "                 mt=(172.5,0.7),mH=(125.25,0.17),pdg=pdgtmp.pdgid_names):\n",
    "        self.G_F=G_F[0]\n",
    "        self.α_s=α_s[0]\n",
    "        self.M_Z=M_Z[0]\n",
    "        self.α=1/αm1[0]\n",
    "        self.M_W=M_W[0]\n",
    "        self.sin2θW=sin2θW[0]\n",
    "        self.mt=mt[0]\n",
    "        self.mH=mH[0]\n",
    "        self.pdg=pdg\n",
    "        self.pdg_names=revert_dict(self.pdg)\n",
    "        assert abs(1-self.M_W**2/self.M_Z**2-np.pi*self.α/(np.sqrt(2)*self.G_F*self.M_W**2) )<0.009\n",
    "        #Others\n",
    "        self.v=1/np.sqrt(np.sqrt(2)*self.G_F)\n",
    "        self.θW=np.sqrt( np.arcsin(self.sin2θW))\n",
    "        self.g2=np.sqrt( 8*self.M_W**2*self.G_F/np.sqrt(2) )        \n",
    "        self.g1=self.g2*np.tan(self.θW)\n",
    "        self.e=np.sqrt(4*np.pi*self.α)\n",
    "        assert abs( self.M_Z-self.M_W/np.cos(self.θW) )<0.5\n",
    "        assert self.g2==2*self.M_W/self.v\n",
    "    def v_a(self,f):\n",
    "        '''\n",
    "        Neutral current couplings\n",
    "        '''\n",
    "        vf=0.5\n",
    "        af=0.5\n",
    "        if f=='u' or f=='c' or f=='t':\n",
    "            vf=vf-0.5*(8/3)*self.sin2θW\n",
    "            af=af\n",
    "        elif f=='d' or f=='s'or f=='b':\n",
    "            vf=-vf+0.5*(4/3)*self.sin2θW\n",
    "            af=-af\n",
    "        elif f=='ν_e' or f=='ν_μ' or f=='ν_τ':\n",
    "            vf=vf\n",
    "            af=af\n",
    "        elif f=='e' or f=='μ' or f=='τ':\n",
    "            vf=-vf+0.5*(4)*self.sin2θW\n",
    "            af=-af\n",
    "        else:\n",
    "            vf=0\n",
    "            af=0\n",
    "        return vf,af        "
   ]
  },
  {
   "cell_type": "code",
   "execution_count": 195,
   "metadata": {},
   "outputs": [],
   "source": [
    "sm=hep()\n",
    "M_Zp=4000\n",
    "global X\n",
    "X={'Q':-1/33,'u':-37/33,'d':35/33,'L':1/11,'e':-13/11,'h':-12/11}"
   ]
  },
  {
   "cell_type": "code",
   "execution_count": 50,
   "metadata": {},
   "outputs": [],
   "source": [
    "def V(f):\n",
    "    return sm.e*sm.v_a(f)[0]/( 2*np.cos(sm.θW)*np.sin(sm.θW) )"
   ]
  },
  {
   "cell_type": "code",
   "execution_count": 241,
   "metadata": {},
   "outputs": [],
   "source": [
    "def ϵ_gX(M_Zp,ϵto0=False,approx=False):\n",
    "    if isinstance(M_Zp,list):\n",
    "        M_Zp=np.array(M_Zp)\n",
    "    if ϵto0:\n",
    "        return 0\n",
    "    else:\n",
    "        if not approx:\n",
    "            return -sm.g2*X['h']**2*sm.v**2/( 4*np.cos(sm.θW)*M_Zp**2   )\n",
    "        else:\n",
    "            return -1/( 2*np.sqrt(np.sqrt(2)*sm.G_F) )*(sm.M_Z/M_Zp**2)*X['h']**2\n",
    "M_Zp=4000\n",
    "assert abs( ( ϵ_gX(M_Zp)-ϵ_gX(M_Zp,approx=True) )/ϵ_gX(M_Zp) )< 0.005        "
   ]
  },
  {
   "cell_type": "code",
   "execution_count": 295,
   "metadata": {},
   "outputs": [],
   "source": [
    "def ℒ_eff(M_Zp,F,f,χ=1,gX=0.1,ϵto0=False,approx=False):\n",
    "    if isinstance(M_Zp,list):\n",
    "        M_Zp=np.array(M_Zp)\n",
    "    \n",
    "    if ϵto0:\n",
    "        approx=False\n",
    "    if not approx:\n",
    "        return gX**2*χ*(  (1/M_Zp**2)*( (X[F]+X[f])/2-ϵ_gX(M_Zp,ϵto0=ϵto0)*V(f) ) \n",
    "                    + (1/sm.M_Z**2)*ϵ_gX(M_Zp,ϵto0=ϵto0)*( V(f)+gX**2*ϵ_gX(M_Zp,ϵto0=ϵto0)*( (X[F]+X[f])/2 )  ) )\n",
    "    else:\n",
    "        return gX**2*χ*( (1/M_Zp**2)*(X[F]+X[f])/2 + (1/sm.M_Z**2)*ϵ_gX(M_Zp)*V(f)  )\n",
    "    \n",
    "M_Zp=4000\n",
    "assert abs((ℒ_eff(M_Zp,'Q','d',χ=1,gX=0.1,ϵto0=False)-ℒ_eff(M_Zp,'Q','d',χ=1,gX=0.1,ϵto0=False,approx=True)\n",
    "           )/ℒ_eff(M_Zp,'Q','d',χ=1,gX=0.1,ϵto0=False))<1E-3    "
   ]
  },
  {
   "cell_type": "code",
   "execution_count": 296,
   "metadata": {},
   "outputs": [],
   "source": [
    "M_Zp=4000"
   ]
  },
  {
   "cell_type": "code",
   "execution_count": 297,
   "metadata": {},
   "outputs": [
    {
     "data": {
      "text/plain": [
       "4.5359145893310614e-10"
      ]
     },
     "execution_count": 297,
     "metadata": {},
     "output_type": "execute_result"
    }
   ],
   "source": [
    "ℒ_eff(M_Zp,'Q','d',χ=1,gX=0.1,ϵto0=False)"
   ]
  },
  {
   "cell_type": "code",
   "execution_count": 298,
   "metadata": {},
   "outputs": [
    {
     "data": {
      "text/plain": [
       "3.2196969696969696e-10"
      ]
     },
     "execution_count": 298,
     "metadata": {},
     "output_type": "execute_result"
    }
   ],
   "source": [
    "ℒ_eff(M_Zp,'Q','d',χ=1,gX=0.1,ϵto0=True)"
   ]
  },
  {
   "cell_type": "code",
   "execution_count": 279,
   "metadata": {},
   "outputs": [
    {
     "name": "stdout",
     "output_type": "stream",
     "text": [
      "Populating the interactive namespace from numpy and matplotlib\n"
     ]
    }
   ],
   "source": [
    "%pylab inline"
   ]
  },
  {
   "cell_type": "code",
   "execution_count": 300,
   "metadata": {},
   "outputs": [],
   "source": [
    "M_Zp=np.logspace(np.log10(100),np.log10(10000))"
   ]
  },
  {
   "cell_type": "code",
   "execution_count": 307,
   "metadata": {},
   "outputs": [
    {
     "data": {
      "text/plain": [
       "(4e-09, 1e-08)"
      ]
     },
     "execution_count": 307,
     "metadata": {},
     "output_type": "execute_result"
    },
    {
     "data": {
      "image/png": "[encoded data removed]",
      "text/plain": [
       "<Figure size 432x288 with 1 Axes>"
      ]
     },
     "metadata": {
      "needs_background": "light"
     },
     "output_type": "display_data"
    }
   ],
   "source": [
    "plt.loglog(M_Zp,  np.abs(ℒ_eff(M_Zp,'Q','d',χ=1,gX=0.1,ϵto0=False))   )\n",
    "plt.loglog(M_Zp,  np.abs(ℒ_eff(M_Zp,'Q','d',χ=1,gX=0.1,ϵto0=True))   )\n",
    "plt.xlim(900,1000)\n",
    "plt.ylim(4E-9,1E-8)"
   ]
  },
  {
   "cell_type": "code",
   "execution_count": 323,
   "metadata": {},
   "outputs": [],
   "source": [
    "M_Zp=4000\n",
    "X={'Q':-1/33,'u':-37/33,'d':35/33,'L':1/11,'e':-13/11,'h':-12/11}\n",
    "X=dict( zip(X.keys(),np.array(list(X.values()))/100) )"
   ]
  },
  {
   "cell_type": "code",
   "execution_count": 324,
   "metadata": {},
   "outputs": [
    {
     "data": {
      "text/plain": [
       "{'Q': -0.00030303030303030303,\n",
       " 'u': -0.011212121212121211,\n",
       " 'd': 0.010606060606060605,\n",
       " 'L': 0.0009090909090909091,\n",
       " 'e': -0.011818181818181818,\n",
       " 'h': -0.010909090909090908}"
      ]
     },
     "execution_count": 324,
     "metadata": {},
     "output_type": "execute_result"
    }
   ],
   "source": [
    "X"
   ]
  },
  {
   "cell_type": "code",
   "execution_count": 318,
   "metadata": {},
   "outputs": [
    {
     "data": {
      "text/plain": [
       "dict_values([-0.030303030303030304, -1.121212121212121, 1.0606060606060606, 0.09090909090909091, -1.1818181818181819, -1.0909090909090908])"
      ]
     },
     "execution_count": 318,
     "metadata": {},
     "output_type": "execute_result"
    }
   ],
   "source": [
    "X.values()"
   ]
  },
  {
   "cell_type": "code",
   "execution_count": 325,
   "metadata": {},
   "outputs": [
    {
     "data": {
      "text/plain": [
       "3.2328587179490475e-12"
      ]
     },
     "execution_count": 325,
     "metadata": {},
     "output_type": "execute_result"
    }
   ],
   "source": [
    "ℒ_eff(M_Zp,'Q','d',χ=1,gX=0.1,ϵto0=False)"
   ]
  },
  {
   "cell_type": "code",
   "execution_count": 326,
   "metadata": {},
   "outputs": [
    {
     "data": {
      "text/plain": [
       "3.2196969696969697e-12"
      ]
     },
     "execution_count": 326,
     "metadata": {},
     "output_type": "execute_result"
    }
   ],
   "source": [
    "ℒ_eff(M_Zp,'Q','d',χ=1,gX=0.1,ϵto0=True)"
   ]
  },
  {
   "cell_type": "code",
   "execution_count": 327,
   "metadata": {},
   "outputs": [],
   "source": [
    "M_Zp=4000\n",
    "X={'Q':-1/33,'u':-37/33,'d':35/33,'L':1/11,'e':-13/11,'h':-12/11}\n",
    "X=dict( zip(X.keys(),np.array(list(X.values()))*10) )"
   ]
  },
  {
   "cell_type": "code",
   "execution_count": 328,
   "metadata": {},
   "outputs": [
    {
     "data": {
      "text/plain": [
       "{'Q': -0.30303030303030304,\n",
       " 'u': -11.212121212121211,\n",
       " 'd': 10.606060606060606,\n",
       " 'L': 0.9090909090909092,\n",
       " 'e': -11.818181818181818,\n",
       " 'h': -10.909090909090908}"
      ]
     },
     "execution_count": 328,
     "metadata": {},
     "output_type": "execute_result"
    }
   ],
   "source": [
    "X"
   ]
  },
  {
   "cell_type": "code",
   "execution_count": 329,
   "metadata": {},
   "outputs": [
    {
     "data": {
      "text/plain": [
       "1.6809389912595084e-08"
      ]
     },
     "execution_count": 329,
     "metadata": {},
     "output_type": "execute_result"
    }
   ],
   "source": [
    "ℒ_eff(M_Zp,'Q','d',χ=1,gX=0.1,ϵto0=False)"
   ]
  },
  {
   "cell_type": "code",
   "execution_count": 330,
   "metadata": {},
   "outputs": [
    {
     "data": {
      "text/plain": [
       "3.21969696969697e-09"
      ]
     },
     "execution_count": 330,
     "metadata": {},
     "output_type": "execute_result"
    }
   ],
   "source": [
    "ℒ_eff(M_Zp,'Q','d',χ=1,gX=0.1,ϵto0=True)"
   ]
  },
  {
   "cell_type": "code",
   "execution_count": null,
   "metadata": {},
   "outputs": [],
   "source": []
  }
 ],
 "metadata": {
  "kernelspec": {
   "display_name": "Python 3 (ipykernel)",
   "language": "python",
   "name": "python3"
  },
  "language_info": {
   "codemirror_mode": {
    "name": "ipython",
    "version": 3
   },
   "file_extension": ".py",
   "mimetype": "text/x-python",
   "name": "python",
   "nbconvert_exporter": "python",
   "pygments_lexer": "ipython3",
   "version": "3.7.3"
  }
 },
 "nbformat": 4,
 "nbformat_minor": 4
}
